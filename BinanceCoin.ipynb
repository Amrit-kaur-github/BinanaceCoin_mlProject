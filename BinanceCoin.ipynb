{
  "nbformat": 4,
  "nbformat_minor": 0,
  "metadata": {
    "colab": {
      "provenance": [],
      "include_colab_link": true
    },
    "kernelspec": {
      "name": "python3",
      "display_name": "Python 3"
    },
    "language_info": {
      "name": "python"
    }
  },
  "cells": [
    {
      "cell_type": "markdown",
      "metadata": {
        "id": "view-in-github",
        "colab_type": "text"
      },
      "source": [
        "<a href=\"https://colab.research.google.com/github/Amrit-kaur-github/BinanaceCoin_mlProject/blob/main/BinanceCoin.ipynb\" target=\"_parent\"><img src=\"https://colab.research.google.com/assets/colab-badge.svg\" alt=\"Open In Colab\"/></a>"
      ]
    },
    {
      "cell_type": "code",
      "execution_count": null,
      "metadata": {
        "id": "SgLE0oWFKLOD"
      },
      "outputs": [],
      "source": [
        "import pandas as pd\n",
        "import numpy as np\n",
        "import matplotlib.pyplot as plt\n",
        "import seaborn as sns\n",
        "\n",
        "\n",
        "url = \"/content/sample_data/Binance Coin - Historic data.csv\"\n",
        "data = pd.read_csv(url)"
      ]
    },
    {
      "cell_type": "markdown",
      "source": [
        "In this file, timeframe is of 1 day usually it can be of 1 minute,1 hour or 1 day it depennds upon the data  \n",
        "Open Price : The Stock at which opens at the start of market\n",
        "\n",
        "High price : The particular stock which made high during that particular day\n",
        "\n",
        "Low Price : The Particular stock which made Low during that particular day\n",
        "\n",
        "Close Price : The stock closing at the end of the Market hours\n",
        "\n",
        "Volume: Volume is the number of shares of a stock that have changed hands over a certain period of time, typically one day. Stocks with higher volumes have more investors interested in buying or selling them.\n",
        "or can say Volume column represents the trading volume of the cryptocurrency during that specific timestamp"
      ],
      "metadata": {
        "id": "4tkNwWr1TknC"
      }
    },
    {
      "cell_type": "markdown",
      "source": [],
      "metadata": {
        "id": "ki0EIAOTR1S6"
      }
    },
    {
      "cell_type": "code",
      "source": [
        "print(\"before\",data)\n",
        "data = data.loc[::-1]\n",
        "print(\"after\",data)"
      ],
      "metadata": {
        "id": "5M771VbAbvmU",
        "colab": {
          "base_uri": "https://localhost:8080/"
        },
        "outputId": "42ffddc5-6277-4ddd-bdd9-e83b47e5e11d"
      },
      "execution_count": null,
      "outputs": [
        {
          "output_type": "stream",
          "name": "stdout",
          "text": [
            "before               Date  Price(in dollars)    Open    High     Low     Vol.  \\\n",
            "0     Jul 27, 2021             303.29  304.31  307.62  298.53    2.26M   \n",
            "1     Jul 26, 2021             304.31  302.60  327.62  301.19    2.86M   \n",
            "2     Jul 25, 2021             302.57  302.55  303.09  292.85    1.25M   \n",
            "3     Jul 24, 2021             303.15  298.91  305.01  296.16    1.81M   \n",
            "4     Jul 23, 2021             298.89  293.51  301.15  281.68    1.98M   \n",
            "...            ...                ...     ...     ...     ...      ...   \n",
            "1352  Nov 13, 2017               1.68    1.49    1.74    1.49  166.01K   \n",
            "1353  Nov 12, 2017               1.49    1.66    1.70    1.34  456.48K   \n",
            "1354  Nov 11, 2017               1.66    1.71    1.93    1.58  256.71K   \n",
            "1355  Nov 10, 2017               1.71    1.99    2.02    1.60  483.23K   \n",
            "1356  Nov 09, 2017               1.99    1.99    2.20    1.90  283.35K   \n",
            "\n",
            "      Change%  \n",
            "0       -0.33  \n",
            "1        0.58  \n",
            "2       -0.19  \n",
            "3        1.42  \n",
            "4        1.83  \n",
            "...       ...  \n",
            "1352    12.75  \n",
            "1353   -10.24  \n",
            "1354    -2.92  \n",
            "1355   -14.07  \n",
            "1356     0.00  \n",
            "\n",
            "[1357 rows x 7 columns]\n",
            "after               Date  Price(in dollars)    Open    High     Low     Vol.  \\\n",
            "1356  Nov 09, 2017               1.99    1.99    2.20    1.90  283.35K   \n",
            "1355  Nov 10, 2017               1.71    1.99    2.02    1.60  483.23K   \n",
            "1354  Nov 11, 2017               1.66    1.71    1.93    1.58  256.71K   \n",
            "1353  Nov 12, 2017               1.49    1.66    1.70    1.34  456.48K   \n",
            "1352  Nov 13, 2017               1.68    1.49    1.74    1.49  166.01K   \n",
            "...            ...                ...     ...     ...     ...      ...   \n",
            "4     Jul 23, 2021             298.89  293.51  301.15  281.68    1.98M   \n",
            "3     Jul 24, 2021             303.15  298.91  305.01  296.16    1.81M   \n",
            "2     Jul 25, 2021             302.57  302.55  303.09  292.85    1.25M   \n",
            "1     Jul 26, 2021             304.31  302.60  327.62  301.19    2.86M   \n",
            "0     Jul 27, 2021             303.29  304.31  307.62  298.53    2.26M   \n",
            "\n",
            "      Change%  \n",
            "1356     0.00  \n",
            "1355   -14.07  \n",
            "1354    -2.92  \n",
            "1353   -10.24  \n",
            "1352    12.75  \n",
            "...       ...  \n",
            "4        1.83  \n",
            "3        1.42  \n",
            "2       -0.19  \n",
            "1        0.58  \n",
            "0       -0.33  \n",
            "\n",
            "[1357 rows x 7 columns]\n"
          ]
        }
      ]
    },
    {
      "cell_type": "code",
      "source": [
        "data.head()"
      ],
      "metadata": {
        "id": "bKu85xB3Ndhw",
        "colab": {
          "base_uri": "https://localhost:8080/",
          "height": 206
        },
        "outputId": "bb252e1f-0218-4263-c6ac-eb5fcc4ebba5"
      },
      "execution_count": null,
      "outputs": [
        {
          "output_type": "execute_result",
          "data": {
            "text/plain": [
              "              Date  Price(in dollars)  Open  High   Low     Vol.  Change%\n",
              "1356  Nov 09, 2017               1.99  1.99  2.20  1.90  283.35K     0.00\n",
              "1355  Nov 10, 2017               1.71  1.99  2.02  1.60  483.23K   -14.07\n",
              "1354  Nov 11, 2017               1.66  1.71  1.93  1.58  256.71K    -2.92\n",
              "1353  Nov 12, 2017               1.49  1.66  1.70  1.34  456.48K   -10.24\n",
              "1352  Nov 13, 2017               1.68  1.49  1.74  1.49  166.01K    12.75"
            ],
            "text/html": [
              "\n",
              "  <div id=\"df-8d678288-d2b0-4f3f-b87c-09bb25c27dd1\">\n",
              "    <div class=\"colab-df-container\">\n",
              "      <div>\n",
              "<style scoped>\n",
              "    .dataframe tbody tr th:only-of-type {\n",
              "        vertical-align: middle;\n",
              "    }\n",
              "\n",
              "    .dataframe tbody tr th {\n",
              "        vertical-align: top;\n",
              "    }\n",
              "\n",
              "    .dataframe thead th {\n",
              "        text-align: right;\n",
              "    }\n",
              "</style>\n",
              "<table border=\"1\" class=\"dataframe\">\n",
              "  <thead>\n",
              "    <tr style=\"text-align: right;\">\n",
              "      <th></th>\n",
              "      <th>Date</th>\n",
              "      <th>Price(in dollars)</th>\n",
              "      <th>Open</th>\n",
              "      <th>High</th>\n",
              "      <th>Low</th>\n",
              "      <th>Vol.</th>\n",
              "      <th>Change%</th>\n",
              "    </tr>\n",
              "  </thead>\n",
              "  <tbody>\n",
              "    <tr>\n",
              "      <th>1356</th>\n",
              "      <td>Nov 09, 2017</td>\n",
              "      <td>1.99</td>\n",
              "      <td>1.99</td>\n",
              "      <td>2.20</td>\n",
              "      <td>1.90</td>\n",
              "      <td>283.35K</td>\n",
              "      <td>0.00</td>\n",
              "    </tr>\n",
              "    <tr>\n",
              "      <th>1355</th>\n",
              "      <td>Nov 10, 2017</td>\n",
              "      <td>1.71</td>\n",
              "      <td>1.99</td>\n",
              "      <td>2.02</td>\n",
              "      <td>1.60</td>\n",
              "      <td>483.23K</td>\n",
              "      <td>-14.07</td>\n",
              "    </tr>\n",
              "    <tr>\n",
              "      <th>1354</th>\n",
              "      <td>Nov 11, 2017</td>\n",
              "      <td>1.66</td>\n",
              "      <td>1.71</td>\n",
              "      <td>1.93</td>\n",
              "      <td>1.58</td>\n",
              "      <td>256.71K</td>\n",
              "      <td>-2.92</td>\n",
              "    </tr>\n",
              "    <tr>\n",
              "      <th>1353</th>\n",
              "      <td>Nov 12, 2017</td>\n",
              "      <td>1.49</td>\n",
              "      <td>1.66</td>\n",
              "      <td>1.70</td>\n",
              "      <td>1.34</td>\n",
              "      <td>456.48K</td>\n",
              "      <td>-10.24</td>\n",
              "    </tr>\n",
              "    <tr>\n",
              "      <th>1352</th>\n",
              "      <td>Nov 13, 2017</td>\n",
              "      <td>1.68</td>\n",
              "      <td>1.49</td>\n",
              "      <td>1.74</td>\n",
              "      <td>1.49</td>\n",
              "      <td>166.01K</td>\n",
              "      <td>12.75</td>\n",
              "    </tr>\n",
              "  </tbody>\n",
              "</table>\n",
              "</div>\n",
              "      <button class=\"colab-df-convert\" onclick=\"convertToInteractive('df-8d678288-d2b0-4f3f-b87c-09bb25c27dd1')\"\n",
              "              title=\"Convert this dataframe to an interactive table.\"\n",
              "              style=\"display:none;\">\n",
              "        \n",
              "  <svg xmlns=\"http://www.w3.org/2000/svg\" height=\"24px\"viewBox=\"0 0 24 24\"\n",
              "       width=\"24px\">\n",
              "    <path d=\"M0 0h24v24H0V0z\" fill=\"none\"/>\n",
              "    <path d=\"M18.56 5.44l.94 2.06.94-2.06 2.06-.94-2.06-.94-.94-2.06-.94 2.06-2.06.94zm-11 1L8.5 8.5l.94-2.06 2.06-.94-2.06-.94L8.5 2.5l-.94 2.06-2.06.94zm10 10l.94 2.06.94-2.06 2.06-.94-2.06-.94-.94-2.06-.94 2.06-2.06.94z\"/><path d=\"M17.41 7.96l-1.37-1.37c-.4-.4-.92-.59-1.43-.59-.52 0-1.04.2-1.43.59L10.3 9.45l-7.72 7.72c-.78.78-.78 2.05 0 2.83L4 21.41c.39.39.9.59 1.41.59.51 0 1.02-.2 1.41-.59l7.78-7.78 2.81-2.81c.8-.78.8-2.07 0-2.86zM5.41 20L4 18.59l7.72-7.72 1.47 1.35L5.41 20z\"/>\n",
              "  </svg>\n",
              "      </button>\n",
              "      \n",
              "  <style>\n",
              "    .colab-df-container {\n",
              "      display:flex;\n",
              "      flex-wrap:wrap;\n",
              "      gap: 12px;\n",
              "    }\n",
              "\n",
              "    .colab-df-convert {\n",
              "      background-color: #E8F0FE;\n",
              "      border: none;\n",
              "      border-radius: 50%;\n",
              "      cursor: pointer;\n",
              "      display: none;\n",
              "      fill: #1967D2;\n",
              "      height: 32px;\n",
              "      padding: 0 0 0 0;\n",
              "      width: 32px;\n",
              "    }\n",
              "\n",
              "    .colab-df-convert:hover {\n",
              "      background-color: #E2EBFA;\n",
              "      box-shadow: 0px 1px 2px rgba(60, 64, 67, 0.3), 0px 1px 3px 1px rgba(60, 64, 67, 0.15);\n",
              "      fill: #174EA6;\n",
              "    }\n",
              "\n",
              "    [theme=dark] .colab-df-convert {\n",
              "      background-color: #3B4455;\n",
              "      fill: #D2E3FC;\n",
              "    }\n",
              "\n",
              "    [theme=dark] .colab-df-convert:hover {\n",
              "      background-color: #434B5C;\n",
              "      box-shadow: 0px 1px 3px 1px rgba(0, 0, 0, 0.15);\n",
              "      filter: drop-shadow(0px 1px 2px rgba(0, 0, 0, 0.3));\n",
              "      fill: #FFFFFF;\n",
              "    }\n",
              "  </style>\n",
              "\n",
              "      <script>\n",
              "        const buttonEl =\n",
              "          document.querySelector('#df-8d678288-d2b0-4f3f-b87c-09bb25c27dd1 button.colab-df-convert');\n",
              "        buttonEl.style.display =\n",
              "          google.colab.kernel.accessAllowed ? 'block' : 'none';\n",
              "\n",
              "        async function convertToInteractive(key) {\n",
              "          const element = document.querySelector('#df-8d678288-d2b0-4f3f-b87c-09bb25c27dd1');\n",
              "          const dataTable =\n",
              "            await google.colab.kernel.invokeFunction('convertToInteractive',\n",
              "                                                     [key], {});\n",
              "          if (!dataTable) return;\n",
              "\n",
              "          const docLinkHtml = 'Like what you see? Visit the ' +\n",
              "            '<a target=\"_blank\" href=https://colab.research.google.com/notebooks/data_table.ipynb>data table notebook</a>'\n",
              "            + ' to learn more about interactive tables.';\n",
              "          element.innerHTML = '';\n",
              "          dataTable['output_type'] = 'display_data';\n",
              "          await google.colab.output.renderOutput(dataTable, element);\n",
              "          const docLink = document.createElement('div');\n",
              "          docLink.innerHTML = docLinkHtml;\n",
              "          element.appendChild(docLink);\n",
              "        }\n",
              "      </script>\n",
              "    </div>\n",
              "  </div>\n",
              "  "
            ]
          },
          "metadata": {},
          "execution_count": 431
        }
      ]
    },
    {
      "cell_type": "code",
      "source": [
        "data.shape"
      ],
      "metadata": {
        "id": "KdFwUgPhQpGt",
        "colab": {
          "base_uri": "https://localhost:8080/"
        },
        "outputId": "ce7d5332-cfc4-4235-d58b-eed05d489dce"
      },
      "execution_count": null,
      "outputs": [
        {
          "output_type": "execute_result",
          "data": {
            "text/plain": [
              "(1357, 7)"
            ]
          },
          "metadata": {},
          "execution_count": 432
        }
      ]
    },
    {
      "cell_type": "code",
      "source": [
        "data.columns"
      ],
      "metadata": {
        "id": "rfntoniBQtOS",
        "colab": {
          "base_uri": "https://localhost:8080/"
        },
        "outputId": "0adaa937-f997-49b4-b07d-6c7e5c7bdaae"
      },
      "execution_count": null,
      "outputs": [
        {
          "output_type": "execute_result",
          "data": {
            "text/plain": [
              "Index(['Date', 'Price(in dollars)', 'Open', 'High', 'Low', 'Vol.', 'Change%'], dtype='object')"
            ]
          },
          "metadata": {},
          "execution_count": 433
        }
      ]
    },
    {
      "cell_type": "markdown",
      "source": [
        "**Cleaning Data**"
      ],
      "metadata": {
        "id": "uxydX7yblytI"
      }
    },
    {
      "cell_type": "code",
      "source": [
        "data.dtypes"
      ],
      "metadata": {
        "id": "hp9FjwZCQOq3",
        "colab": {
          "base_uri": "https://localhost:8080/"
        },
        "outputId": "02213982-44ba-4cf2-90a2-a10c51085b91"
      },
      "execution_count": null,
      "outputs": [
        {
          "output_type": "execute_result",
          "data": {
            "text/plain": [
              "Date                  object\n",
              "Price(in dollars)    float64\n",
              "Open                 float64\n",
              "High                 float64\n",
              "Low                  float64\n",
              "Vol.                  object\n",
              "Change%              float64\n",
              "dtype: object"
            ]
          },
          "metadata": {},
          "execution_count": 434
        }
      ]
    },
    {
      "cell_type": "markdown",
      "source": [
        "**Plot Time Series chart for Binance Coin**"
      ],
      "metadata": {
        "id": "SP1fygegZ2qd"
      }
    },
    {
      "cell_type": "code",
      "source": [
        "data.set_index('Date',inplace=True)\n",
        "data['Open'].plot(figsize =(10,7))\n",
        "plt.title(\"Binance coin price\" , fontsize = 20)\n",
        "plt.ylabel('Price', fontsize=14)\n",
        "plt.xlabel('Date', fontsize=14)\n",
        "plt.grid(which=\"major\", color='r', linestyle='-.', linewidth=0.5)\n",
        "plt.show()"
      ],
      "metadata": {
        "id": "YA0PNs4XUH_b"
      },
      "execution_count": null,
      "outputs": []
    },
    {
      "cell_type": "code",
      "source": [
        "from google.colab import drive\n",
        "drive.mount('/content/drive')"
      ],
      "metadata": {
        "id": "tjoBsNN3X2sh"
      },
      "execution_count": null,
      "outputs": []
    },
    {
      "cell_type": "code",
      "source": [
        "data_change = data['Change%'] #with negative and postive values of change% \n",
        "plt.plot(data_change, label = 'Changing Evolution')\n",
        "plt.show()"
      ],
      "metadata": {
        "colab": {
          "base_uri": "https://localhost:8080/",
          "height": 430
        },
        "id": "2IEiNnla9JFl",
        "outputId": "686b4376-5f10-4d19-f5f3-64578d238202"
      },
      "execution_count": null,
      "outputs": [
        {
          "output_type": "display_data",
          "data": {
            "text/plain": [
              "<Figure size 640x480 with 1 Axes>"
            ],
            "image/png": "[encoded data removed]"
          },
          "metadata": {}
        }
      ]
    },
    {
      "cell_type": "code",
      "source": [
        "data.shape\n",
        "data.head()\n"
      ],
      "metadata": {
        "colab": {
          "base_uri": "https://localhost:8080/",
          "height": 237
        },
        "id": "Ou8WSs2VFXR8",
        "outputId": "4b95004b-cb00-4d7b-85f9-f7799d8e9ec9"
      },
      "execution_count": null,
      "outputs": [
        {
          "output_type": "execute_result",
          "data": {
            "text/plain": [
              "              Price(in dollars)  Open  High   Low     Vol.  Change%\n",
              "Date                                                               \n",
              "Nov 09, 2017               1.99  1.99  2.20  1.90  283.35K     0.00\n",
              "Nov 10, 2017               1.71  1.99  2.02  1.60  483.23K   -14.07\n",
              "Nov 11, 2017               1.66  1.71  1.93  1.58  256.71K    -2.92\n",
              "Nov 12, 2017               1.49  1.66  1.70  1.34  456.48K   -10.24\n",
              "Nov 13, 2017               1.68  1.49  1.74  1.49  166.01K    12.75"
            ],
            "text/html": [
              "\n",
              "  <div id=\"df-4f193cfc-e23b-46e8-aa87-12bd3a217225\">\n",
              "    <div class=\"colab-df-container\">\n",
              "      <div>\n",
              "<style scoped>\n",
              "    .dataframe tbody tr th:only-of-type {\n",
              "        vertical-align: middle;\n",
              "    }\n",
              "\n",
              "    .dataframe tbody tr th {\n",
              "        vertical-align: top;\n",
              "    }\n",
              "\n",
              "    .dataframe thead th {\n",
              "        text-align: right;\n",
              "    }\n",
              "</style>\n",
              "<table border=\"1\" class=\"dataframe\">\n",
              "  <thead>\n",
              "    <tr style=\"text-align: right;\">\n",
              "      <th></th>\n",
              "      <th>Price(in dollars)</th>\n",
              "      <th>Open</th>\n",
              "      <th>High</th>\n",
              "      <th>Low</th>\n",
              "      <th>Vol.</th>\n",
              "      <th>Change%</th>\n",
              "    </tr>\n",
              "    <tr>\n",
              "      <th>Date</th>\n",
              "      <th></th>\n",
              "      <th></th>\n",
              "      <th></th>\n",
              "      <th></th>\n",
              "      <th></th>\n",
              "      <th></th>\n",
              "    </tr>\n",
              "  </thead>\n",
              "  <tbody>\n",
              "    <tr>\n",
              "      <th>Nov 09, 2017</th>\n",
              "      <td>1.99</td>\n",
              "      <td>1.99</td>\n",
              "      <td>2.20</td>\n",
              "      <td>1.90</td>\n",
              "      <td>283.35K</td>\n",
              "      <td>0.00</td>\n",
              "    </tr>\n",
              "    <tr>\n",
              "      <th>Nov 10, 2017</th>\n",
              "      <td>1.71</td>\n",
              "      <td>1.99</td>\n",
              "      <td>2.02</td>\n",
              "      <td>1.60</td>\n",
              "      <td>483.23K</td>\n",
              "      <td>-14.07</td>\n",
              "    </tr>\n",
              "    <tr>\n",
              "      <th>Nov 11, 2017</th>\n",
              "      <td>1.66</td>\n",
              "      <td>1.71</td>\n",
              "      <td>1.93</td>\n",
              "      <td>1.58</td>\n",
              "      <td>256.71K</td>\n",
              "      <td>-2.92</td>\n",
              "    </tr>\n",
              "    <tr>\n",
              "      <th>Nov 12, 2017</th>\n",
              "      <td>1.49</td>\n",
              "      <td>1.66</td>\n",
              "      <td>1.70</td>\n",
              "      <td>1.34</td>\n",
              "      <td>456.48K</td>\n",
              "      <td>-10.24</td>\n",
              "    </tr>\n",
              "    <tr>\n",
              "      <th>Nov 13, 2017</th>\n",
              "      <td>1.68</td>\n",
              "      <td>1.49</td>\n",
              "      <td>1.74</td>\n",
              "      <td>1.49</td>\n",
              "      <td>166.01K</td>\n",
              "      <td>12.75</td>\n",
              "    </tr>\n",
              "  </tbody>\n",
              "</table>\n",
              "</div>\n",
              "      <button class=\"colab-df-convert\" onclick=\"convertToInteractive('df-4f193cfc-e23b-46e8-aa87-12bd3a217225')\"\n",
              "              title=\"Convert this dataframe to an interactive table.\"\n",
              "              style=\"display:none;\">\n",
              "        \n",
              "  <svg xmlns=\"http://www.w3.org/2000/svg\" height=\"24px\"viewBox=\"0 0 24 24\"\n",
              "       width=\"24px\">\n",
              "    <path d=\"M0 0h24v24H0V0z\" fill=\"none\"/>\n",
              "    <path d=\"M18.56 5.44l.94 2.06.94-2.06 2.06-.94-2.06-.94-.94-2.06-.94 2.06-2.06.94zm-11 1L8.5 8.5l.94-2.06 2.06-.94-2.06-.94L8.5 2.5l-.94 2.06-2.06.94zm10 10l.94 2.06.94-2.06 2.06-.94-2.06-.94-.94-2.06-.94 2.06-2.06.94z\"/><path d=\"M17.41 7.96l-1.37-1.37c-.4-.4-.92-.59-1.43-.59-.52 0-1.04.2-1.43.59L10.3 9.45l-7.72 7.72c-.78.78-.78 2.05 0 2.83L4 21.41c.39.39.9.59 1.41.59.51 0 1.02-.2 1.41-.59l7.78-7.78 2.81-2.81c.8-.78.8-2.07 0-2.86zM5.41 20L4 18.59l7.72-7.72 1.47 1.35L5.41 20z\"/>\n",
              "  </svg>\n",
              "      </button>\n",
              "      \n",
              "  <style>\n",
              "    .colab-df-container {\n",
              "      display:flex;\n",
              "      flex-wrap:wrap;\n",
              "      gap: 12px;\n",
              "    }\n",
              "\n",
              "    .colab-df-convert {\n",
              "      background-color: #E8F0FE;\n",
              "      border: none;\n",
              "      border-radius: 50%;\n",
              "      cursor: pointer;\n",
              "      display: none;\n",
              "      fill: #1967D2;\n",
              "      height: 32px;\n",
              "      padding: 0 0 0 0;\n",
              "      width: 32px;\n",
              "    }\n",
              "\n",
              "    .colab-df-convert:hover {\n",
              "      background-color: #E2EBFA;\n",
              "      box-shadow: 0px 1px 2px rgba(60, 64, 67, 0.3), 0px 1px 3px 1px rgba(60, 64, 67, 0.15);\n",
              "      fill: #174EA6;\n",
              "    }\n",
              "\n",
              "    [theme=dark] .colab-df-convert {\n",
              "      background-color: #3B4455;\n",
              "      fill: #D2E3FC;\n",
              "    }\n",
              "\n",
              "    [theme=dark] .colab-df-convert:hover {\n",
              "      background-color: #434B5C;\n",
              "      box-shadow: 0px 1px 3px 1px rgba(0, 0, 0, 0.15);\n",
              "      filter: drop-shadow(0px 1px 2px rgba(0, 0, 0, 0.3));\n",
              "      fill: #FFFFFF;\n",
              "    }\n",
              "  </style>\n",
              "\n",
              "      <script>\n",
              "        const buttonEl =\n",
              "          document.querySelector('#df-4f193cfc-e23b-46e8-aa87-12bd3a217225 button.colab-df-convert');\n",
              "        buttonEl.style.display =\n",
              "          google.colab.kernel.accessAllowed ? 'block' : 'none';\n",
              "\n",
              "        async function convertToInteractive(key) {\n",
              "          const element = document.querySelector('#df-4f193cfc-e23b-46e8-aa87-12bd3a217225');\n",
              "          const dataTable =\n",
              "            await google.colab.kernel.invokeFunction('convertToInteractive',\n",
              "                                                     [key], {});\n",
              "          if (!dataTable) return;\n",
              "\n",
              "          const docLinkHtml = 'Like what you see? Visit the ' +\n",
              "            '<a target=\"_blank\" href=https://colab.research.google.com/notebooks/data_table.ipynb>data table notebook</a>'\n",
              "            + ' to learn more about interactive tables.';\n",
              "          element.innerHTML = '';\n",
              "          dataTable['output_type'] = 'display_data';\n",
              "          await google.colab.output.renderOutput(dataTable, element);\n",
              "          const docLink = document.createElement('div');\n",
              "          docLink.innerHTML = docLinkHtml;\n",
              "          element.appendChild(docLink);\n",
              "        }\n",
              "      </script>\n",
              "    </div>\n",
              "  </div>\n",
              "  "
            ]
          },
          "metadata": {},
          "execution_count": 437
        }
      ]
    },
    {
      "cell_type": "code",
      "source": [
        "# selectimg columns\n",
        "data = data[['Price(in dollars)', 'Open', 'High', 'Low', 'Vol.', 'Change%']]"
      ],
      "metadata": {
        "id": "S7M4XcB_MKjv"
      },
      "execution_count": null,
      "outputs": []
    },
    {
      "cell_type": "markdown",
      "source": [
        "cleaning data:"
      ],
      "metadata": {
        "id": "qOaIZ3WMaqsD"
      }
    },
    {
      "cell_type": "code",
      "source": [
        "# convert 'Vol.' column to numeric\n",
        "\n",
        "# data['Vol.'] = data['Vol.'].replace('K', '000').replace('M', '000000')\n",
        "# data['Vol.'] = data['Vol.'].replace({'K': '000','M': '000000'})\n",
        "# abouve didn't worked for me 'cause error said igt could not convert string to float: '1.62 M'\", \n",
        "# means there appears to be a space between the value and unit (M or K) in some of the rows of the 'Vol.' column in my data \n",
        "# so we replaced space with '',it will remove any space characters from the string.\n",
        "\n",
        "#here i used .str becz we are to replace a substring in each element of 'Vol.' column .str.replace() method\n",
        "#  replaces all occurrences of a substring with another substring in each element.\n",
        "\n",
        "data['Vol.'] = data['Vol.'].str.replace(' ', '').str.replace('K', '000').str.replace('M', '000000')\n",
        "\n",
        "# or we can also  used lambda which will apply replacw to individual element in vol. column\n",
        "# data['Vol.'] = data['Vol.'].apply(lambda x: x.replace(' ', '').replace('K', '000').replace('M', '000000'))\n",
        "\n",
        "\n"
      ],
      "metadata": {
        "id": "Pa_lTgC3Sm2U"
      },
      "execution_count": null,
      "outputs": []
    },
    {
      "cell_type": "code",
      "source": [
        "mask = data['Change%'] >= 0\n",
        "\n",
        "#new dataframe with non-negative Change% rows\n",
        "df_new = data[mask].reset_index(drop=False)\n",
        "\n",
        "# print original dataframe and new dataframe\n",
        "print(\"Original dataframe:\")\n",
        "print(data.head())\n",
        "print(\"\\nNew dataframe with non-negative(positive) Change% rows:\")\n",
        "print(df_new.head())\n"
      ],
      "metadata": {
        "colab": {
          "base_uri": "https://localhost:8080/"
        },
        "id": "nSGL3rQsapvI",
        "outputId": "2c37d0bc-e9c5-43ca-c68f-c42c361cf1d8"
      },
      "execution_count": null,
      "outputs": [
        {
          "output_type": "stream",
          "name": "stdout",
          "text": [
            "Original dataframe:\n",
            "              Price(in dollars)  Open  High   Low       Vol.  Change%\n",
            "Date                                                                 \n",
            "Nov 09, 2017               1.99  1.99  2.20  1.90  283.35000     0.00\n",
            "Nov 10, 2017               1.71  1.99  2.02  1.60  483.23000   -14.07\n",
            "Nov 11, 2017               1.66  1.71  1.93  1.58  256.71000    -2.92\n",
            "Nov 12, 2017               1.49  1.66  1.70  1.34  456.48000   -10.24\n",
            "Nov 13, 2017               1.68  1.49  1.74  1.49  166.01000    12.75\n",
            "\n",
            "New dataframe with non-negative(positive) Change% rows:\n",
            "           Date  Price(in dollars)  Open  High   Low       Vol.  Change%\n",
            "0  Nov 09, 2017               1.99  1.99  2.20  1.90  283.35000     0.00\n",
            "1  Nov 13, 2017               1.68  1.49  1.74  1.49  166.01000    12.75\n",
            "2  Nov 16, 2017               1.56  1.55  1.67  1.51  193.73000     0.65\n",
            "3  Nov 18, 2017               1.67  1.50  1.67  1.49  168.62000    11.33\n",
            "4  Nov 20, 2017               1.64  1.60  1.65  1.56  158.70000     2.50\n"
          ]
        }
      ]
    },
    {
      "cell_type": "code",
      "source": [
        "df_new.dtypes"
      ],
      "metadata": {
        "colab": {
          "base_uri": "https://localhost:8080/"
        },
        "id": "Ie2xvYWHSs3o",
        "outputId": "21c06e5b-1150-47ee-bf35-8bf078899650"
      },
      "execution_count": null,
      "outputs": [
        {
          "output_type": "execute_result",
          "data": {
            "text/plain": [
              "Date                  object\n",
              "Price(in dollars)    float64\n",
              "Open                 float64\n",
              "High                 float64\n",
              "Low                  float64\n",
              "Vol.                  object\n",
              "Change%              float64\n",
              "dtype: object"
            ]
          },
          "metadata": {},
          "execution_count": 441
        }
      ]
    },
    {
      "cell_type": "code",
      "source": [
        "# removing rows containg'-' from vol.\n",
        "df_new = df_new[df_new['Vol.'] != '-']\n",
        "df_new['Vol.']\n",
        "# chnaging vol. to float datatype\n",
        "df_new['Vol.'] = df_new['Vol.'].astype(float)\n",
        "df_new['Vol.'].dtype"
      ],
      "metadata": {
        "colab": {
          "base_uri": "https://localhost:8080/"
        },
        "id": "roW4kHpZn8OT",
        "outputId": "d034b8fe-4a29-42b3-a715-a18ebece85e2"
      },
      "execution_count": null,
      "outputs": [
        {
          "output_type": "execute_result",
          "data": {
            "text/plain": [
              "dtype('float64')"
            ]
          },
          "metadata": {},
          "execution_count": 442
        }
      ]
    },
    {
      "cell_type": "code",
      "source": [
        "# df_new = df_new.reset_index()\n",
        "# df_new"
      ],
      "metadata": {
        "id": "DmznQolr4t-Q"
      },
      "execution_count": null,
      "outputs": []
    },
    {
      "cell_type": "markdown",
      "source": [
        "**Test Train Set**"
      ],
      "metadata": {
        "id": "bzf3JikOeEPF"
      }
    },
    {
      "cell_type": "code",
      "source": [
        "\n",
        "def create_train_test_set(new_df):\n",
        "    # extract features and target\n",
        "    features = new_df[['Price(in dollars)', 'Open', 'High', 'Low', 'Vol.']]\n",
        "    target = new_df['Change%']\n",
        "\n",
        "    # set data length and split percentages\n",
        "    data_len = len(new_df)\n",
        "    #  0.7 that is 70% is used for training data.\n",
        "    train_split = int(data_len * 0.7)\n",
        "\n",
        "    # 0.2 that is 20% is used for validation.\n",
        "    val_split = int(data_len * 0.2)\n",
        "\n",
        "    # remaining percentage of the data that is not used in the training and validation sets is \n",
        "    # used for the test set that is 10% is used for testing data.\n",
        "    test_split = data_len - train_split - val_split\n",
        "\n",
        "    # split data into train, validation, and test sets\n",
        "    X_train, X_val, X_test = features[:train_split], features[train_split : train_split + val_split], features[train_split + val_split:]\n",
        "    y_train, y_val, y_test = target[: train_split], target[train_split : train_split + val_split], target[train_split + val_split :]\n",
        "\n",
        "    # print sizes of train, validation, and test sets\n",
        "    print(f\"Train set size: {len(X_train)}\")\n",
        "    print(f\"Validation set size: {len(X_val)}\")\n",
        "    print(f\"Test set size: {len(X_test)}\")\n",
        "\n",
        "    return X_train, X_val, X_test, y_train, y_val, y_test\n"
      ],
      "metadata": {
        "id": "UXbgyLMqVz6G"
      },
      "execution_count": null,
      "outputs": []
    },
    {
      "cell_type": "code",
      "source": [
        "X_train, X_val, X_test, Y_train, Y_val, Y_test = create_train_test_set(df_new)"
      ],
      "metadata": {
        "id": "mLh3rQL_ifGX",
        "colab": {
          "base_uri": "https://localhost:8080/"
        },
        "outputId": "2e7ee509-2bdd-4591-bb31-2860ad032018"
      },
      "execution_count": null,
      "outputs": [
        {
          "output_type": "stream",
          "name": "stdout",
          "text": [
            "Train set size: 507\n",
            "Validation set size: 145\n",
            "Test set size: 73\n"
          ]
        }
      ]
    },
    {
      "cell_type": "markdown",
      "source": [
        "Prediction using Linear Regression"
      ],
      "metadata": {
        "id": "Q74CmYGtioTW"
      }
    },
    {
      "cell_type": "code",
      "source": [
        "from sklearn.linear_model import LinearRegression\n",
        "\n",
        "lr = LinearRegression()\n",
        "lr.fit(X_train, Y_train)"
      ],
      "metadata": {
        "id": "eyJuT499ip0Y",
        "colab": {
          "base_uri": "https://localhost:8080/",
          "height": 74
        },
        "outputId": "03f8122b-e2e0-416d-c173-97d92fd933e4"
      },
      "execution_count": null,
      "outputs": [
        {
          "output_type": "execute_result",
          "data": {
            "text/plain": [
              "LinearRegression()"
            ],
            "text/html": [
              "<style>#sk-container-id-9 {color: black;background-color: white;}#sk-container-id-9 pre{padding: 0;}#sk-container-id-9 div.sk-toggleable {background-color: white;}#sk-container-id-9 label.sk-toggleable__label {cursor: pointer;display: block;width: 100%;margin-bottom: 0;padding: 0.3em;box-sizing: border-box;text-align: center;}#sk-container-id-9 label.sk-toggleable__label-arrow:before {content: \"▸\";float: left;margin-right: 0.25em;color: #696969;}#sk-container-id-9 label.sk-toggleable__label-arrow:hover:before {color: black;}#sk-container-id-9 div.sk-estimator:hover label.sk-toggleable__label-arrow:before {color: black;}#sk-container-id-9 div.sk-toggleable__content {max-height: 0;max-width: 0;overflow: hidden;text-align: left;background-color: #f0f8ff;}#sk-container-id-9 div.sk-toggleable__content pre {margin: 0.2em;color: black;border-radius: 0.25em;background-color: #f0f8ff;}#sk-container-id-9 input.sk-toggleable__control:checked~div.sk-toggleable__content {max-height: 200px;max-width: 100%;overflow: auto;}#sk-container-id-9 input.sk-toggleable__control:checked~label.sk-toggleable__label-arrow:before {content: \"▾\";}#sk-container-id-9 div.sk-estimator input.sk-toggleable__control:checked~label.sk-toggleable__label {background-color: #d4ebff;}#sk-container-id-9 div.sk-label input.sk-toggleable__control:checked~label.sk-toggleable__label {background-color: #d4ebff;}#sk-container-id-9 input.sk-hidden--visually {border: 0;clip: rect(1px 1px 1px 1px);clip: rect(1px, 1px, 1px, 1px);height: 1px;margin: -1px;overflow: hidden;padding: 0;position: absolute;width: 1px;}#sk-container-id-9 div.sk-estimator {font-family: monospace;background-color: #f0f8ff;border: 1px dotted black;border-radius: 0.25em;box-sizing: border-box;margin-bottom: 0.5em;}#sk-container-id-9 div.sk-estimator:hover {background-color: #d4ebff;}#sk-container-id-9 div.sk-parallel-item::after {content: \"\";width: 100%;border-bottom: 1px solid gray;flex-grow: 1;}#sk-container-id-9 div.sk-label:hover label.sk-toggleable__label {background-color: #d4ebff;}#sk-container-id-9 div.sk-serial::before {content: \"\";position: absolute;border-left: 1px solid gray;box-sizing: border-box;top: 0;bottom: 0;left: 50%;z-index: 0;}#sk-container-id-9 div.sk-serial {display: flex;flex-direction: column;align-items: center;background-color: white;padding-right: 0.2em;padding-left: 0.2em;position: relative;}#sk-container-id-9 div.sk-item {position: relative;z-index: 1;}#sk-container-id-9 div.sk-parallel {display: flex;align-items: stretch;justify-content: center;background-color: white;position: relative;}#sk-container-id-9 div.sk-item::before, #sk-container-id-9 div.sk-parallel-item::before {content: \"\";position: absolute;border-left: 1px solid gray;box-sizing: border-box;top: 0;bottom: 0;left: 50%;z-index: -1;}#sk-container-id-9 div.sk-parallel-item {display: flex;flex-direction: column;z-index: 1;position: relative;background-color: white;}#sk-container-id-9 div.sk-parallel-item:first-child::after {align-self: flex-end;width: 50%;}#sk-container-id-9 div.sk-parallel-item:last-child::after {align-self: flex-start;width: 50%;}#sk-container-id-9 div.sk-parallel-item:only-child::after {width: 0;}#sk-container-id-9 div.sk-dashed-wrapped {border: 1px dashed gray;margin: 0 0.4em 0.5em 0.4em;box-sizing: border-box;padding-bottom: 0.4em;background-color: white;}#sk-container-id-9 div.sk-label label {font-family: monospace;font-weight: bold;display: inline-block;line-height: 1.2em;}#sk-container-id-9 div.sk-label-container {text-align: center;}#sk-container-id-9 div.sk-container {/* jupyter's `normalize.less` sets `[hidden] { display: none; }` but bootstrap.min.css set `[hidden] { display: none !important; }` so we also need the `!important` here to be able to override the default hidden behavior on the sphinx rendered scikit-learn.org. See: https://github.com/scikit-learn/scikit-learn/issues/21755 */display: inline-block !important;position: relative;}#sk-container-id-9 div.sk-text-repr-fallback {display: none;}</style><div id=\"sk-container-id-9\" class=\"sk-top-container\"><div class=\"sk-text-repr-fallback\"><pre>LinearRegression()</pre><b>In a Jupyter environment, please rerun this cell to show the HTML representation or trust the notebook. <br />On GitHub, the HTML representation is unable to render, please try loading this page with nbviewer.org.</b></div><div class=\"sk-container\" hidden><div class=\"sk-item\"><div class=\"sk-estimator sk-toggleable\"><input class=\"sk-toggleable__control sk-hidden--visually\" id=\"sk-estimator-id-9\" type=\"checkbox\" checked><label for=\"sk-estimator-id-9\" class=\"sk-toggleable__label sk-toggleable__label-arrow\">LinearRegression</label><div class=\"sk-toggleable__content\"><pre>LinearRegression()</pre></div></div></div></div></div>"
            ]
          },
          "metadata": {},
          "execution_count": 446
        }
      ]
    },
    {
      "cell_type": "code",
      "source": [
        "# y = mx + c ( m=slope of the line, c = y-intercept)\n",
        "# The coefficients represent the slope of the linear relationship between each feature and the target variable. \n",
        "# They indicate the amount by which the target variable is expected to change, on average, when the corresponding feature\n",
        "#  increases by one unit, while holding all other features constant.\n",
        "# The intercept represents the expected value of the target variable when all features are equal to zero.\n",
        "print('LR Coefficients: \\n', lr.coef_)\n",
        "print('LR Intercept: \\n', lr.intercept_)"
      ],
      "metadata": {
        "colab": {
          "base_uri": "https://localhost:8080/"
        },
        "id": "JFbTV0OZp1Sx",
        "outputId": "d53872e0-404c-409c-89e9-9480cbff9f81"
      },
      "execution_count": null,
      "outputs": [
        {
          "output_type": "stream",
          "name": "stdout",
          "text": [
            "LR Coefficients: \n",
            " [ 5.75363682e+00 -7.44318833e+00  1.31277208e+00  5.96550471e-02\n",
            "  3.83972997e-04]\n",
            "LR Intercept: \n",
            " 4.7176351806840975\n"
          ]
        }
      ]
    },
    {
      "cell_type": "markdown",
      "source": [
        "**Evaluation**"
      ],
      "metadata": {
        "id": "nFPTlepGwbEZ"
      }
    },
    {
      "cell_type": "code",
      "source": [
        "print(\"Performance (R^2): \", lr.score(X_train, Y_train))"
      ],
      "metadata": {
        "colab": {
          "base_uri": "https://localhost:8080/"
        },
        "id": "6uuY4fxjqKat",
        "outputId": "18a0a92b-d19d-4190-ddff-ca88188769d6"
      },
      "execution_count": null,
      "outputs": [
        {
          "output_type": "stream",
          "name": "stdout",
          "text": [
            "Performance (R^2):  0.7798001991715996\n"
          ]
        }
      ]
    },
    {
      "cell_type": "code",
      "source": [
        "def get_mape(y_true, y_pred): \n",
        "    \"\"\"\n",
        "    Compute mean absolute percentage error (MAPE)\n",
        "    \"\"\"\n",
        "    y_true, y_pred = np.array(y_true), np.array(y_pred)\n",
        "    return np.mean(np.abs((y_true - y_pred) / y_true)) * 100"
      ],
      "metadata": {
        "id": "HIIR5WTiqLtt"
      },
      "execution_count": null,
      "outputs": []
    },
    {
      "cell_type": "markdown",
      "source": [
        "**Predict for the test dataset**"
      ],
      "metadata": {
        "id": "dBGzSkUhqZfe"
      }
    },
    {
      "cell_type": "code",
      "source": [
        "Y_train_pred = lr.predict(X_train)\n",
        "Y_val_pred = lr.predict(X_val)\n",
        "Y_test_pred = lr.predict(X_test)\n",
        "#Y_test_pred\n"
      ],
      "metadata": {
        "id": "ffKfBs6rqfc8"
      },
      "execution_count": null,
      "outputs": []
    },
    {
      "cell_type": "code",
      "source": [
        "from sklearn import metrics"
      ],
      "metadata": {
        "id": "6t06gaFDxi5N"
      },
      "execution_count": null,
      "outputs": []
    },
    {
      "cell_type": "markdown",
      "source": [
        "1. R-squared (R^2): a measure of how well the model fits the data. It ranges from 0 to 1, with 1 indicating a perfect fit.Higher values indicate a better fit\n",
        "\n",
        "2. Explained variation: a measure of how much of the variance in the data is explained by the model. It ranges from 0 to 1, with 1 indicating that the model explains all of the variation. Higher values indicate a better fit.\n",
        "\n",
        "3. Mean absolute percentage error (MAPE): a measure of the percentage difference between the predicted and actual values. It is calculated as the average of the absolute( the predicted - actual values)/ the actual values, and multiplied by 100. Lower values indicate better performance.\n",
        "\n",
        "4. Mean squared error (MSE): a measure of the average squared difference between the predicted and actual values.Lower values indicate better performance.\n",
        "\n",
        "5. Root mean squared error (RMSE): the square root of the MSE, which gives a measure of the average magnitude of the errors.Lower values indicate better performance.\n",
        "\n",
        "6. Mean absolute error (MAE): a measure of the average absolute difference between the predicted and actual values. Lower values indicate better performance."
      ],
      "metadata": {
        "id": "2O-OcQHPygke"
      }
    },
    {
      "cell_type": "code",
      "source": [
        "print(\"Training R-squared: \",round(metrics.r2_score(Y_train,Y_train_pred),2))\n",
        "print(\"Training Explained Variation: \",round(metrics.explained_variance_score(Y_train,Y_train_pred),2))\n",
        "print('Training MAPE:', round(get_mape(Y_train,Y_train_pred), 2)) \n",
        "print('Training Mean Squared Error:', round(metrics.mean_squared_error(Y_train,Y_train_pred), 2)) \n",
        "print(\"Training RMSE: \",round(np.sqrt(metrics.mean_squared_error(Y_train,Y_train_pred)),2))\n",
        "print(\"Training MAE: \",round(metrics.mean_absolute_error(Y_train,Y_train_pred),2))\n",
        "\n",
        "print(' ')\n",
        "\n",
        "print(\"Validation R-squared: \",round(metrics.r2_score(Y_val,Y_val_pred),2))\n",
        "print(\"Validation Explained Variation: \",round(metrics.explained_variance_score(Y_val,Y_val_pred),2))\n",
        "print('Validation MAPE:', round(get_mape(Y_val,Y_val_pred), 2)) \n",
        "print('Validation Mean Squared Error:', round(metrics.mean_squared_error(Y_train,Y_train_pred), 2)) \n",
        "print(\"Validation RMSE: \",round(np.sqrt(metrics.mean_squared_error(Y_val,Y_val_pred)),2))\n",
        "print(\"Validation MAE: \",round(metrics.mean_absolute_error(Y_val,Y_val_pred),2))\n",
        "\n",
        "print(' ')\n",
        "\n",
        "print(\"Test R-squared: \",round(metrics.r2_score(Y_test,Y_test_pred),2))\n",
        "print(\"Test Explained Variation: \",round(metrics.explained_variance_score(Y_test,Y_test_pred),2))\n",
        "print('Test MAPE:', round(get_mape(Y_test,Y_test_pred), 2)) \n",
        "print('Test Mean Squared Error:', round(metrics.mean_squared_error(Y_test,Y_test_pred), 2)) \n",
        "print(\"Test RMSE: \",round(np.sqrt(metrics.mean_squared_error(Y_test,Y_test_pred)),2))\n",
        "print(\"Test MAE: \",round(metrics.mean_absolute_error(Y_test,Y_test_pred),2))"
      ],
      "metadata": {
        "colab": {
          "base_uri": "https://localhost:8080/"
        },
        "id": "G2RqYxDwqpy3",
        "outputId": "6633d256-c0ff-406c-eaab-c1b0345dafed"
      },
      "execution_count": null,
      "outputs": [
        {
          "output_type": "stream",
          "name": "stdout",
          "text": [
            "Training R-squared:  0.78\n",
            "Training Explained Variation:  0.78\n",
            "Training MAPE: inf\n",
            "Training Mean Squared Error: 7.39\n",
            "Training RMSE:  2.72\n",
            "Training MAE:  1.54\n",
            " \n",
            "Validation R-squared:  -113.64\n",
            "Validation Explained Variation:  -110.63\n",
            "Validation MAPE: inf\n",
            "Validation Mean Squared Error: 7.39\n",
            "Validation RMSE:  81.96\n",
            "Validation MAE:  19.13\n",
            " \n",
            "Test R-squared:  -565.31\n",
            "Test Explained Variation:  -517.19\n",
            "Test MAPE: 6945.37\n",
            "Test Mean Squared Error: 17227.87\n",
            "Test RMSE:  131.25\n",
            "Test MAE:  91.69\n"
          ]
        },
        {
          "output_type": "stream",
          "name": "stderr",
          "text": [
            "<ipython-input-449-727ef42a3d29>:6: RuntimeWarning: divide by zero encountered in true_divide\n",
            "  return np.mean(np.abs((y_true - y_pred) / y_true)) * 100\n",
            "<ipython-input-449-727ef42a3d29>:6: RuntimeWarning: divide by zero encountered in true_divide\n",
            "  return np.mean(np.abs((y_true - y_pred) / y_true)) * 100\n"
          ]
        }
      ]
    },
    {
      "cell_type": "code",
      "source": [
        "print(data.columns)\n",
        "print(df_new.columns)"
      ],
      "metadata": {
        "colab": {
          "base_uri": "https://localhost:8080/"
        },
        "id": "sb-_Z51R48WA",
        "outputId": "096f63a6-d7be-4111-b23c-af1797c7b0a2"
      },
      "execution_count": null,
      "outputs": [
        {
          "output_type": "stream",
          "name": "stdout",
          "text": [
            "Index(['Price(in dollars)', 'Open', 'High', 'Low', 'Vol.', 'Change%'], dtype='object')\n",
            "Index(['Date', 'Price(in dollars)', 'Open', 'High', 'Low', 'Vol.', 'Change%'], dtype='object')\n"
          ]
        }
      ]
    },
    {
      "cell_type": "code",
      "source": [
        "df_pred = pd.DataFrame(Y_val.values, columns=['Actual'], index=Y_val.index)\n",
        "df_pred['Predicted'] = Y_val_pred\n",
        "df_pred = df_pred.reset_index()\n",
        "df_pred.iloc[:,:]\n",
        "df_pred"
      ],
      "metadata": {
        "colab": {
          "base_uri": "https://localhost:8080/",
          "height": 423
        },
        "id": "6nQTKaxhxuui",
        "outputId": "75f76d9a-db7f-442d-b177-4783ecadda44"
      },
      "execution_count": null,
      "outputs": [
        {
          "output_type": "execute_result",
          "data": {
            "text/plain": [
              "     index  Actual   Predicted\n",
              "0      508    1.85    1.556495\n",
              "1      509    3.89    4.373648\n",
              "2      510    0.62    0.403716\n",
              "3      511    0.36   -0.035586\n",
              "4      512    5.10    5.609603\n",
              "..     ...     ...         ...\n",
              "140    648   21.27  260.095735\n",
              "141    649    0.58  -43.973097\n",
              "142    650    0.28  -54.945103\n",
              "143    651    6.08   34.994305\n",
              "144    652    0.24  -65.220965\n",
              "\n",
              "[145 rows x 3 columns]"
            ],
            "text/html": [
              "\n",
              "  <div id=\"df-c14d9914-eacc-42c6-951a-c04b0b25d6ec\">\n",
              "    <div class=\"colab-df-container\">\n",
              "      <div>\n",
              "<style scoped>\n",
              "    .dataframe tbody tr th:only-of-type {\n",
              "        vertical-align: middle;\n",
              "    }\n",
              "\n",
              "    .dataframe tbody tr th {\n",
              "        vertical-align: top;\n",
              "    }\n",
              "\n",
              "    .dataframe thead th {\n",
              "        text-align: right;\n",
              "    }\n",
              "</style>\n",
              "<table border=\"1\" class=\"dataframe\">\n",
              "  <thead>\n",
              "    <tr style=\"text-align: right;\">\n",
              "      <th></th>\n",
              "      <th>index</th>\n",
              "      <th>Actual</th>\n",
              "      <th>Predicted</th>\n",
              "    </tr>\n",
              "  </thead>\n",
              "  <tbody>\n",
              "    <tr>\n",
              "      <th>0</th>\n",
              "      <td>508</td>\n",
              "      <td>1.85</td>\n",
              "      <td>1.556495</td>\n",
              "    </tr>\n",
              "    <tr>\n",
              "      <th>1</th>\n",
              "      <td>509</td>\n",
              "      <td>3.89</td>\n",
              "      <td>4.373648</td>\n",
              "    </tr>\n",
              "    <tr>\n",
              "      <th>2</th>\n",
              "      <td>510</td>\n",
              "      <td>0.62</td>\n",
              "      <td>0.403716</td>\n",
              "    </tr>\n",
              "    <tr>\n",
              "      <th>3</th>\n",
              "      <td>511</td>\n",
              "      <td>0.36</td>\n",
              "      <td>-0.035586</td>\n",
              "    </tr>\n",
              "    <tr>\n",
              "      <th>4</th>\n",
              "      <td>512</td>\n",
              "      <td>5.10</td>\n",
              "      <td>5.609603</td>\n",
              "    </tr>\n",
              "    <tr>\n",
              "      <th>...</th>\n",
              "      <td>...</td>\n",
              "      <td>...</td>\n",
              "      <td>...</td>\n",
              "    </tr>\n",
              "    <tr>\n",
              "      <th>140</th>\n",
              "      <td>648</td>\n",
              "      <td>21.27</td>\n",
              "      <td>260.095735</td>\n",
              "    </tr>\n",
              "    <tr>\n",
              "      <th>141</th>\n",
              "      <td>649</td>\n",
              "      <td>0.58</td>\n",
              "      <td>-43.973097</td>\n",
              "    </tr>\n",
              "    <tr>\n",
              "      <th>142</th>\n",
              "      <td>650</td>\n",
              "      <td>0.28</td>\n",
              "      <td>-54.945103</td>\n",
              "    </tr>\n",
              "    <tr>\n",
              "      <th>143</th>\n",
              "      <td>651</td>\n",
              "      <td>6.08</td>\n",
              "      <td>34.994305</td>\n",
              "    </tr>\n",
              "    <tr>\n",
              "      <th>144</th>\n",
              "      <td>652</td>\n",
              "      <td>0.24</td>\n",
              "      <td>-65.220965</td>\n",
              "    </tr>\n",
              "  </tbody>\n",
              "</table>\n",
              "<p>145 rows × 3 columns</p>\n",
              "</div>\n",
              "      <button class=\"colab-df-convert\" onclick=\"convertToInteractive('df-c14d9914-eacc-42c6-951a-c04b0b25d6ec')\"\n",
              "              title=\"Convert this dataframe to an interactive table.\"\n",
              "              style=\"display:none;\">\n",
              "        \n",
              "  <svg xmlns=\"http://www.w3.org/2000/svg\" height=\"24px\"viewBox=\"0 0 24 24\"\n",
              "       width=\"24px\">\n",
              "    <path d=\"M0 0h24v24H0V0z\" fill=\"none\"/>\n",
              "    <path d=\"M18.56 5.44l.94 2.06.94-2.06 2.06-.94-2.06-.94-.94-2.06-.94 2.06-2.06.94zm-11 1L8.5 8.5l.94-2.06 2.06-.94-2.06-.94L8.5 2.5l-.94 2.06-2.06.94zm10 10l.94 2.06.94-2.06 2.06-.94-2.06-.94-.94-2.06-.94 2.06-2.06.94z\"/><path d=\"M17.41 7.96l-1.37-1.37c-.4-.4-.92-.59-1.43-.59-.52 0-1.04.2-1.43.59L10.3 9.45l-7.72 7.72c-.78.78-.78 2.05 0 2.83L4 21.41c.39.39.9.59 1.41.59.51 0 1.02-.2 1.41-.59l7.78-7.78 2.81-2.81c.8-.78.8-2.07 0-2.86zM5.41 20L4 18.59l7.72-7.72 1.47 1.35L5.41 20z\"/>\n",
              "  </svg>\n",
              "      </button>\n",
              "      \n",
              "  <style>\n",
              "    .colab-df-container {\n",
              "      display:flex;\n",
              "      flex-wrap:wrap;\n",
              "      gap: 12px;\n",
              "    }\n",
              "\n",
              "    .colab-df-convert {\n",
              "      background-color: #E8F0FE;\n",
              "      border: none;\n",
              "      border-radius: 50%;\n",
              "      cursor: pointer;\n",
              "      display: none;\n",
              "      fill: #1967D2;\n",
              "      height: 32px;\n",
              "      padding: 0 0 0 0;\n",
              "      width: 32px;\n",
              "    }\n",
              "\n",
              "    .colab-df-convert:hover {\n",
              "      background-color: #E2EBFA;\n",
              "      box-shadow: 0px 1px 2px rgba(60, 64, 67, 0.3), 0px 1px 3px 1px rgba(60, 64, 67, 0.15);\n",
              "      fill: #174EA6;\n",
              "    }\n",
              "\n",
              "    [theme=dark] .colab-df-convert {\n",
              "      background-color: #3B4455;\n",
              "      fill: #D2E3FC;\n",
              "    }\n",
              "\n",
              "    [theme=dark] .colab-df-convert:hover {\n",
              "      background-color: #434B5C;\n",
              "      box-shadow: 0px 1px 3px 1px rgba(0, 0, 0, 0.15);\n",
              "      filter: drop-shadow(0px 1px 2px rgba(0, 0, 0, 0.3));\n",
              "      fill: #FFFFFF;\n",
              "    }\n",
              "  </style>\n",
              "\n",
              "      <script>\n",
              "        const buttonEl =\n",
              "          document.querySelector('#df-c14d9914-eacc-42c6-951a-c04b0b25d6ec button.colab-df-convert');\n",
              "        buttonEl.style.display =\n",
              "          google.colab.kernel.accessAllowed ? 'block' : 'none';\n",
              "\n",
              "        async function convertToInteractive(key) {\n",
              "          const element = document.querySelector('#df-c14d9914-eacc-42c6-951a-c04b0b25d6ec');\n",
              "          const dataTable =\n",
              "            await google.colab.kernel.invokeFunction('convertToInteractive',\n",
              "                                                     [key], {});\n",
              "          if (!dataTable) return;\n",
              "\n",
              "          const docLinkHtml = 'Like what you see? Visit the ' +\n",
              "            '<a target=\"_blank\" href=https://colab.research.google.com/notebooks/data_table.ipynb>data table notebook</a>'\n",
              "            + ' to learn more about interactive tables.';\n",
              "          element.innerHTML = '';\n",
              "          dataTable['output_type'] = 'display_data';\n",
              "          await google.colab.output.renderOutput(dataTable, element);\n",
              "          const docLink = document.createElement('div');\n",
              "          docLink.innerHTML = docLinkHtml;\n",
              "          element.appendChild(docLink);\n",
              "        }\n",
              "      </script>\n",
              "    </div>\n",
              "  </div>\n",
              "  "
            ]
          },
          "metadata": {},
          "execution_count": 454
        }
      ]
    },
    {
      "cell_type": "markdown",
      "source": [
        " **Plot Predicted vs Actual Prices on Time Series**"
      ],
      "metadata": {
        "id": "upsrb-YVxzZA"
      }
    },
    {
      "cell_type": "code",
      "source": [
        "df_pred[['Actual', 'Predicted']].plot()\n"
      ],
      "metadata": {
        "colab": {
          "base_uri": "https://localhost:8080/",
          "height": 447
        },
        "id": "gKhkQyUDxzAP",
        "outputId": "c1d13ce8-a25a-4874-88aa-7a394ed52778"
      },
      "execution_count": null,
      "outputs": [
        {
          "output_type": "execute_result",
          "data": {
            "text/plain": [
              "<Axes: >"
            ]
          },
          "metadata": {},
          "execution_count": 465
        },
        {
          "output_type": "display_data",
          "data": {
            "text/plain": [
              "<Figure size 640x480 with 1 Axes>"
            ],
            "image/png": "[encoded data removed]"
          },
          "metadata": {}
        }
      ]
    },
    {
      "cell_type": "code",
      "source": [],
      "metadata": {
        "id": "lUO34XHhCHen"
      },
      "execution_count": null,
      "outputs": []
    }
  ]
}